{
  "nbformat": 4,
  "nbformat_minor": 0,
  "metadata": {
    "colab": {
      "name": "Exercise1.ipynb",
      "provenance": [],
      "authorship_tag": "ABX9TyOARNC6XlgjYxJ5kbrgo8vj",
      "include_colab_link": true
    },
    "kernelspec": {
      "name": "python3",
      "display_name": "Python 3"
    },
    "language_info": {
      "name": "python"
    }
  },
  "cells": [
    {
      "cell_type": "markdown",
      "metadata": {
        "id": "view-in-github",
        "colab_type": "text"
      },
      "source": [
        "<a href=\"https://colab.research.google.com/github/aliraza33833/CE889/blob/main/week01/Exercise1.ipynb\" target=\"_parent\"><img src=\"https://colab.research.google.com/assets/colab-badge.svg\" alt=\"Open In Colab\"/></a>"
      ]
    },
    {
      "cell_type": "markdown",
      "source": [
        "Write one line code to implement arithmetic such as addition and multiplication"
      ],
      "metadata": {
        "id": "18vqRF6WgoCa"
      }
    },
    {
      "cell_type": "code",
      "source": [
        "print(2+2)\n",
        "print(4*2)"
      ],
      "metadata": {
        "colab": {
          "base_uri": "https://localhost:8080/"
        },
        "id": "H9CHhBIwgqDm",
        "outputId": "e30d0c58-46b1-48f9-e60f-cac0a9d934ea"
      },
      "execution_count": 6,
      "outputs": [
        {
          "output_type": "stream",
          "name": "stdout",
          "text": [
            "4\n",
            "8\n"
          ]
        }
      ]
    },
    {
      "cell_type": "markdown",
      "source": [
        "Write a script with several lines to implement FOR loop\n",
        "You may use the code to calculate the sum of 1, 2, 3, 4, 5, …., 100"
      ],
      "metadata": {
        "id": "jGjxQBpSgoLA"
      }
    },
    {
      "cell_type": "code",
      "source": [
        "j = 0\n",
        "\n",
        "for i in range(1,101):\n",
        "  j = j+i\n",
        "\n",
        "print('The sum of 1, 2, 3, 4, 5, …., 100 is: ',j)\n"
      ],
      "metadata": {
        "colab": {
          "base_uri": "https://localhost:8080/"
        },
        "id": "bflMnWWEgq5Z",
        "outputId": "6052ff98-150c-4747-ed6c-7bad70963a9d"
      },
      "execution_count": 7,
      "outputs": [
        {
          "output_type": "stream",
          "name": "stdout",
          "text": [
            "The sum of 1, 2, 3, 4, 5, …., 100 is:  5050\n"
          ]
        }
      ]
    },
    {
      "cell_type": "markdown",
      "source": [
        "Create a variable (int, str, list etc.) and assign a value to the variable you just created"
      ],
      "metadata": {
        "id": "zPKj-xsFgoUF"
      }
    },
    {
      "cell_type": "code",
      "source": [
        "i = 10\n",
        "s = 'hello'\n",
        "l = [0,1,2]\n",
        "print('Integer:{}, String:{} and List:{}'.format(i,s,l))"
      ],
      "metadata": {
        "colab": {
          "base_uri": "https://localhost:8080/"
        },
        "id": "HjKFmfm-gr8j",
        "outputId": "894dab8b-e7ae-4672-8df5-1be47795f2bd"
      },
      "execution_count": 9,
      "outputs": [
        {
          "output_type": "stream",
          "name": "stdout",
          "text": [
            "Integer:10, String:hello and List:[0, 1, 2]\n"
          ]
        }
      ]
    }
  ]
}